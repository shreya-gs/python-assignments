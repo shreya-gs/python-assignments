{
  "nbformat": 4,
  "nbformat_minor": 0,
  "metadata": {
    "colab": {
      "provenance": [],
      "authorship_tag": "ABX9TyOGYdYwGfzfINW7aOB7UiHw",
      "include_colab_link": true
    },
    "kernelspec": {
      "name": "python3",
      "display_name": "Python 3"
    },
    "language_info": {
      "name": "python"
    }
  },
  "cells": [
    {
      "cell_type": "markdown",
      "metadata": {
        "id": "view-in-github",
        "colab_type": "text"
      },
      "source": [
        "<a href=\"https://colab.research.google.com/github/shreya-gs/python-assignments/blob/main/Operators.ipynb\" target=\"_parent\"><img src=\"https://colab.research.google.com/assets/colab-badge.svg\" alt=\"Open In Colab\"/></a>"
      ]
    },
    {
      "cell_type": "code",
      "execution_count": 17,
      "metadata": {
        "id": "mnKX_65a4k-G",
        "colab": {
          "base_uri": "https://localhost:8080/"
        },
        "outputId": "556da958-8791-4b40-ba2d-8d3a953a868f"
      },
      "outputs": [
        {
          "output_type": "stream",
          "name": "stdout",
          "text": [
            "15 5 2.0 50 2 2 100\n"
          ]
        }
      ],
      "source": [
        "# arthmetic operators\n",
        "\n",
        "p = 10 + 5\n",
        "q = 10 - 5\n",
        "r = 10 / 5\n",
        "s = 10 * 5\n",
        "t = 10 % 4\n",
        "u = 10 // 4\n",
        "v = 10 ** 2\n",
        "\n",
        "print(p,q,r,s,t,u,v)"
      ]
    },
    {
      "cell_type": "code",
      "source": [
        "# Relational Operators\n",
        "\n",
        "a = 36\n",
        "b = 22\n",
        "\n",
        "p = a > b\n",
        "q = a < b\n",
        "r = a == b\n",
        "s = a <= b\n",
        "t = a >= b\n",
        "u = a != b\n",
        "\n",
        "print(p,q,r,s,t,u)"
      ],
      "metadata": {
        "colab": {
          "base_uri": "https://localhost:8080/"
        },
        "id": "6lHLRFRjSeYi",
        "outputId": "df2e233a-f4e4-4180-a85e-97dce6bf8a21"
      },
      "execution_count": 18,
      "outputs": [
        {
          "output_type": "stream",
          "name": "stdout",
          "text": [
            "True False False False True True\n"
          ]
        }
      ]
    },
    {
      "cell_type": "code",
      "source": [
        "# Logical Operators\n",
        "\n",
        "p = 23 and 45\n",
        "q = False and 0\n",
        "r = \"False\" and \"\"\n",
        "s = 23 or 45\n",
        "t = \"\" or 0.0\n",
        "u = True or \"True\"\n",
        "\n",
        "print(p,q,r,s,t,u)"
      ],
      "metadata": {
        "colab": {
          "base_uri": "https://localhost:8080/"
        },
        "id": "VWYDHGhPUyiQ",
        "outputId": "1f86ecd7-6866-49c3-92bd-8d539b513a69"
      },
      "execution_count": 27,
      "outputs": [
        {
          "output_type": "stream",
          "name": "stdout",
          "text": [
            "45 False  23 0.0 True\n"
          ]
        }
      ]
    },
    {
      "cell_type": "code",
      "source": [
        "# Bitwise operator\n",
        "\n",
        "p = 9 & 15\n",
        "q = 9 | 15\n",
        "r = ~9\n",
        "s = 9 ^ 15\n",
        "t = 9 << 1\n",
        "u = 9 >> 2\n",
        "\n",
        "print(p,q,r,s,t,u)"
      ],
      "metadata": {
        "colab": {
          "base_uri": "https://localhost:8080/"
        },
        "id": "XJR3QenwWFyR",
        "outputId": "9445cf68-644f-48c7-b95c-bdfd4db81653"
      },
      "execution_count": 26,
      "outputs": [
        {
          "output_type": "stream",
          "name": "stdout",
          "text": [
            "9 15 -10 6 18 2\n"
          ]
        }
      ]
    },
    {
      "cell_type": "code",
      "source": [
        "# Assignment Operator\n",
        "\n",
        "a = 10\n",
        "a+=10\n",
        "a-=10\n",
        "a*=10\n",
        "a/=5\n",
        "a//=3\n",
        "a%=4\n",
        "a**=10\n",
        "\n",
        "b = 9\n",
        "b&=15\n",
        "b|=9\n",
        "b^=2\n",
        "b<<=3\n",
        "b>>=2\n",
        "\n",
        "print(a,b)"
      ],
      "metadata": {
        "colab": {
          "base_uri": "https://localhost:8080/"
        },
        "id": "GaQgGQC3Wlh4",
        "outputId": "2456220a-623d-4534-c1a3-60e95be7d994"
      },
      "execution_count": 57,
      "outputs": [
        {
          "output_type": "stream",
          "name": "stdout",
          "text": [
            "22\n"
          ]
        }
      ]
    },
    {
      "cell_type": "code",
      "source": [
        "# Special operator\n",
        "\n",
        "a = 2\n",
        "b = 3\n",
        "p = a is not b\n",
        "q = a is b\n",
        "b = 2\n",
        "r = a is b\n",
        "c = [2,3,4,5]\n",
        "s = 2 in c\n",
        "d = \"python\"\n",
        "t = \"w\" not in d\n",
        "\n",
        "print(p,q,r,s,t)"
      ],
      "metadata": {
        "colab": {
          "base_uri": "https://localhost:8080/"
        },
        "id": "cakjBXPQWrWA",
        "outputId": "01e0a4ae-3a10-44a8-bd23-df7af7337082"
      },
      "execution_count": 30,
      "outputs": [
        {
          "output_type": "stream",
          "name": "stdout",
          "text": [
            "True False True True True\n"
          ]
        }
      ]
    }
  ]
}