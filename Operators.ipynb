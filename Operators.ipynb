{
  "nbformat": 4,
  "nbformat_minor": 0,
  "metadata": {
    "colab": {
      "provenance": [],
      "authorship_tag": "ABX9TyN23aerJbtpOO1zVz3UVdwz",
      "include_colab_link": true
    },
    "kernelspec": {
      "name": "python3",
      "display_name": "Python 3"
    },
    "language_info": {
      "name": "python"
    }
  },
  "cells": [
    {
      "cell_type": "markdown",
      "metadata": {
        "id": "view-in-github",
        "colab_type": "text"
      },
      "source": [
        "<a href=\"https://colab.research.google.com/github/shreya-gs/python-assignments/blob/main/Operators.ipynb\" target=\"_parent\"><img src=\"https://colab.research.google.com/assets/colab-badge.svg\" alt=\"Open In Colab\"/></a>"
      ]
    },
    {
      "cell_type": "code",
      "execution_count": 17,
      "metadata": {
        "id": "mnKX_65a4k-G",
        "colab": {
          "base_uri": "https://localhost:8080/"
        },
        "outputId": "556da958-8791-4b40-ba2d-8d3a953a868f"
      },
      "outputs": [
        {
          "output_type": "stream",
          "name": "stdout",
          "text": [
            "15 5 2.0 50 2 2 100\n"
          ]
        }
      ],
      "source": [
        "# arthmetic operators\n",
        "\n",
        "p = 10 + 5\n",
        "q = 10 - 5\n",
        "r = 10 / 5\n",
        "s = 10 * 5\n",
        "t = 10 % 4\n",
        "u = 10 // 4\n",
        "v = 10 ** 2\n",
        "\n",
        "print(p,q,r,s,t,u,v)"
      ]
    },
    {
      "cell_type": "code",
      "source": [],
      "metadata": {
        "id": "6lHLRFRjSeYi"
      },
      "execution_count": null,
      "outputs": []
    }
  ]
}